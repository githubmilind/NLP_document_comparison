{
 "cells": [
  {
   "cell_type": "markdown",
   "id": "89ca2044",
   "metadata": {},
   "source": [
    "https://github.com/sujitpal/nltk-examples/blob/master/src/semantic/short_sentence_similarity.py"
   ]
  },
  {
   "cell_type": "code",
   "execution_count": 1,
   "id": "3d846ed9",
   "metadata": {},
   "outputs": [],
   "source": [
    "from __future__ import division\n",
    "import nltk\n",
    "from nltk.corpus import wordnet as wn\n",
    "from nltk.corpus import brown\n",
    "import math\n",
    "import numpy as np\n",
    "import sys"
   ]
  },
  {
   "cell_type": "code",
   "execution_count": 2,
   "id": "c0632fa6",
   "metadata": {},
   "outputs": [],
   "source": [
    "# Parameters to the algorithm. Currently set to values that was reported\n",
    "# in the paper to produce \"best\" results.\n",
    "ALPHA = 0.2\n",
    "BETA = 0.45\n",
    "ETA = 0.4\n",
    "PHI = 0.2\n",
    "DELTA = 0.85"
   ]
  },
  {
   "cell_type": "code",
   "execution_count": 3,
   "id": "b309b1b1",
   "metadata": {},
   "outputs": [],
   "source": [
    "brown_freqs = dict()\n",
    "N = 0"
   ]
  },
  {
   "cell_type": "markdown",
   "id": "956b19e6",
   "metadata": {},
   "source": [
    "######################## word similarity ##########################"
   ]
  },
  {
   "cell_type": "code",
   "execution_count": 4,
   "id": "79d720c0",
   "metadata": {},
   "outputs": [],
   "source": [
    "def get_best_synset_pair(word_1, word_2):\n",
    "    \"\"\" \n",
    "    Choose the pair with highest path similarity among all pairs. \n",
    "    Mimics pattern-seeking behavior of humans.\n",
    "    \"\"\"\n",
    "    max_sim = -1.0\n",
    "    synsets_1 = wn.synsets(word_1)\n",
    "    synsets_2 = wn.synsets(word_2)\n",
    "    if len(synsets_1) == 0 or len(synsets_2) == 0:\n",
    "        return None, None\n",
    "    else:\n",
    "        max_sim = -1.0\n",
    "        best_pair = None, None\n",
    "        for synset_1 in synsets_1:\n",
    "            for synset_2 in synsets_2:\n",
    "               sim = wn.path_similarity(synset_1, synset_2)\n",
    "               if sim > max_sim:\n",
    "                   max_sim = sim\n",
    "                   best_pair = synset_1, synset_2\n",
    "        return best_pair"
   ]
  },
  {
   "cell_type": "code",
   "execution_count": 5,
   "id": "f307e9f8",
   "metadata": {},
   "outputs": [],
   "source": [
    "def length_dist(synset_1, synset_2):\n",
    "    \"\"\"\n",
    "    Return a measure of the length of the shortest path in the semantic \n",
    "    ontology (Wordnet in our case as well as the paper's) between two \n",
    "    synsets.\n",
    "    \"\"\"\n",
    "    l_dist = sys.maxsize\n",
    "    if synset_1 is None or synset_2 is None: \n",
    "        return 0.0\n",
    "    if synset_1 == synset_2:\n",
    "        # if synset_1 and synset_2 are the same synset return 0\n",
    "        l_dist = 0.0\n",
    "    else:\n",
    "        wset_1 = set([str(x.name()) for x in synset_1.lemmas()])        \n",
    "        wset_2 = set([str(x.name()) for x in synset_2.lemmas()])\n",
    "        if len(wset_1.intersection(wset_2)) > 0:\n",
    "            # if synset_1 != synset_2 but there is word overlap, return 1.0\n",
    "            l_dist = 1.0\n",
    "        else:\n",
    "            # just compute the shortest path between the two\n",
    "            l_dist = synset_1.shortest_path_distance(synset_2)\n",
    "            if l_dist is None:\n",
    "                l_dist = 0.0\n",
    "    # normalize path length to the range [0,1]\n",
    "    return math.exp(-ALPHA * l_dist)"
   ]
  },
  {
   "cell_type": "code",
   "execution_count": 6,
   "id": "e4f486f3",
   "metadata": {},
   "outputs": [],
   "source": [
    "def hierarchy_dist(synset_1, synset_2):\n",
    "    \"\"\"\n",
    "    Return a measure of depth in the ontology to model the fact that \n",
    "    nodes closer to the root are broader and have less semantic similarity\n",
    "    than nodes further away from the root.\n",
    "    \"\"\"\n",
    "    h_dist = sys.maxsize\n",
    "    if synset_1 is None or synset_2 is None: \n",
    "        return h_dist\n",
    "    if synset_1 == synset_2:\n",
    "        # return the depth of one of synset_1 or synset_2\n",
    "        h_dist = max([x[1] for x in synset_1.hypernym_distances()])\n",
    "    else:\n",
    "        # find the max depth of least common subsumer\n",
    "        hypernyms_1 = {x[0]:x[1] for x in synset_1.hypernym_distances()}\n",
    "        hypernyms_2 = {x[0]:x[1] for x in synset_2.hypernym_distances()}\n",
    "        lcs_candidates = set(hypernyms_1.keys()).intersection(\n",
    "            set(hypernyms_2.keys()))\n",
    "        if len(lcs_candidates) > 0:\n",
    "            lcs_dists = []\n",
    "            for lcs_candidate in lcs_candidates:\n",
    "                lcs_d1 = 0\n",
    "                if lcs_candidate in hypernyms_1 :\n",
    "                    lcs_d1 = hypernyms_1[lcs_candidate]\n",
    "                lcs_d2 = 0\n",
    "                if lcs_candidate in hypernyms_2:\n",
    "                    lcs_d2 = hypernyms_2[lcs_candidate]\n",
    "                lcs_dists.append(max([lcs_d1, lcs_d2]))\n",
    "            h_dist = max(lcs_dists)\n",
    "        else:\n",
    "            h_dist = 0\n",
    "    return ((math.exp(BETA * h_dist) - math.exp(-BETA * h_dist)) / \n",
    "        (math.exp(BETA * h_dist) + math.exp(-BETA * h_dist)))\n"
   ]
  },
  {
   "cell_type": "code",
   "execution_count": 7,
   "id": "f4fccae8",
   "metadata": {},
   "outputs": [],
   "source": [
    "def word_similarity(word_1, word_2):\n",
    "    synset_pair = get_best_synset_pair(word_1, word_2)\n",
    "    return (length_dist(synset_pair[0], synset_pair[1]) * \n",
    "        hierarchy_dist(synset_pair[0], synset_pair[1]))"
   ]
  },
  {
   "cell_type": "markdown",
   "id": "cdab62f2",
   "metadata": {},
   "source": [
    "######################### sentence similarity ##########################"
   ]
  },
  {
   "cell_type": "code",
   "execution_count": 8,
   "id": "f27be736",
   "metadata": {},
   "outputs": [],
   "source": [
    "def most_similar_word(word, word_set):\n",
    "    \"\"\"\n",
    "    Find the word in the joint word set that is most similar to the word\n",
    "    passed in. We use the algorithm above to compute word similarity between\n",
    "    the word and each word in the joint word set, and return the most similar\n",
    "    word and the actual similarity value.\n",
    "    \"\"\"\n",
    "    max_sim = -1.0\n",
    "    sim_word = \"\"\n",
    "    for ref_word in word_set:\n",
    "      sim = word_similarity(word, ref_word)\n",
    "      if sim > max_sim:\n",
    "          max_sim = sim\n",
    "          sim_word = ref_word\n",
    "    return sim_word, max_sim"
   ]
  },
  {
   "cell_type": "code",
   "execution_count": 9,
   "id": "22d74bd4",
   "metadata": {},
   "outputs": [],
   "source": [
    "def info_content(lookup_word):\n",
    "    \"\"\"\n",
    "    Uses the Brown corpus available in NLTK to calculate a Laplace\n",
    "    smoothed frequency distribution of words, then uses this information\n",
    "    to compute the information content of the lookup_word.\n",
    "    \"\"\"\n",
    "    global N\n",
    "    if N == 0:\n",
    "        # poor man's lazy evaluation\n",
    "        for sent in brown.sents():\n",
    "            for word in sent:\n",
    "                word = word.lower()\n",
    "                if not (word in brown_freqs):\n",
    "                    brown_freqs[word] = 0\n",
    "                brown_freqs[word] = brown_freqs[word] + 1\n",
    "                N = N + 1\n",
    "    lookup_word = lookup_word.lower()\n",
    "    n = 0 if not (lookup_word in brown_freqs) else brown_freqs[lookup_word]\n",
    "    return 1.0 - (math.log(n + 1) / math.log(N + 1))"
   ]
  },
  {
   "cell_type": "code",
   "execution_count": 10,
   "id": "e2341434",
   "metadata": {},
   "outputs": [],
   "source": [
    "def semantic_vector(words, joint_words, info_content_norm):\n",
    "    \"\"\"\n",
    "    Computes the semantic vector of a sentence. The sentence is passed in as\n",
    "    a collection of words. The size of the semantic vector is the same as the\n",
    "    size of the joint word set. The elements are 1 if a word in the sentence\n",
    "    already exists in the joint word set, or the similarity of the word to the\n",
    "    most similar word in the joint word set if it doesn't. Both values are \n",
    "    further normalized by the word's (and similar word's) information content\n",
    "    if info_content_norm is True.\n",
    "    \"\"\"\n",
    "    sent_set = set(words)\n",
    "    semvec = np.zeros(len(joint_words))\n",
    "    i = 0\n",
    "    for joint_word in joint_words:\n",
    "        if joint_word in sent_set:\n",
    "            # if word in union exists in the sentence, s(i) = 1 (unnormalized)\n",
    "            semvec[i] = 1.0\n",
    "            if info_content_norm:\n",
    "                semvec[i] = semvec[i] * math.pow(info_content(joint_word), 2)\n",
    "        else:\n",
    "            # find the most similar word in the joint set and set the sim value\n",
    "            sim_word, max_sim = most_similar_word(joint_word, sent_set)\n",
    "            semvec[i] = PHI if max_sim > PHI else 0.0\n",
    "            if info_content_norm:\n",
    "                semvec[i] = semvec[i] * info_content(joint_word) * info_content(sim_word)\n",
    "        i = i + 1\n",
    "    return semvec "
   ]
  },
  {
   "cell_type": "code",
   "execution_count": 11,
   "id": "4d18bf79",
   "metadata": {},
   "outputs": [],
   "source": [
    "def semantic_similarity(sentence_1, sentence_2, info_content_norm):\n",
    "    \"\"\"\n",
    "    Computes the semantic similarity between two sentences as the cosine\n",
    "    similarity between the semantic vectors computed for each sentence.\n",
    "    \"\"\"\n",
    "    words_1 = nltk.word_tokenize(sentence_1)\n",
    "    words_2 = nltk.word_tokenize(sentence_2)\n",
    "    joint_words = set(words_1).union(set(words_2))\n",
    "    vec_1 = semantic_vector(words_1, joint_words, info_content_norm)\n",
    "    vec_2 = semantic_vector(words_2, joint_words, info_content_norm)\n",
    "    return np.dot(vec_1, vec_2.T) / (np.linalg.norm(vec_1) * np.linalg.norm(vec_2))\n"
   ]
  },
  {
   "cell_type": "markdown",
   "id": "0ac6e6a7",
   "metadata": {},
   "source": [
    "######################### word order similarity ##########################"
   ]
  },
  {
   "cell_type": "code",
   "execution_count": 12,
   "id": "35f2a05b",
   "metadata": {},
   "outputs": [],
   "source": [
    "def word_order_vector(words, joint_words, windex):\n",
    "    \"\"\"\n",
    "    Computes the word order vector for a sentence. The sentence is passed\n",
    "    in as a collection of words. The size of the word order vector is the\n",
    "    same as the size of the joint word set. The elements of the word order\n",
    "    vector are the position mapping (from the windex dictionary) of the \n",
    "    word in the joint set if the word exists in the sentence. If the word\n",
    "    does not exist in the sentence, then the value of the element is the \n",
    "    position of the most similar word in the sentence as long as the similarity\n",
    "    is above the threshold ETA.\n",
    "    \"\"\"\n",
    "    wovec = np.zeros(len(joint_words))\n",
    "    i = 0\n",
    "    wordset = set(words)\n",
    "    for joint_word in joint_words:\n",
    "        if joint_word in wordset:\n",
    "            # word in joint_words found in sentence, just populate the index\n",
    "            wovec[i] = windex[joint_word]\n",
    "        else:\n",
    "            # word not in joint_words, find most similar word and populate\n",
    "            # word_vector with the thresholded similarity\n",
    "            sim_word, max_sim = most_similar_word(joint_word, wordset)\n",
    "            if max_sim > ETA:\n",
    "                wovec[i] = windex[sim_word]\n",
    "            else:\n",
    "                wovec[i] = 0\n",
    "        i = i + 1\n",
    "    return wovec"
   ]
  },
  {
   "cell_type": "code",
   "execution_count": 13,
   "id": "7c5fd4c1",
   "metadata": {},
   "outputs": [],
   "source": [
    "def word_order_similarity(sentence_1, sentence_2):\n",
    "    \"\"\"\n",
    "    Computes the word-order similarity between two sentences as the normalized\n",
    "    difference of word order between the two sentences.\n",
    "    \"\"\"\n",
    "    words_1 = nltk.word_tokenize(sentence_1)\n",
    "    words_2 = nltk.word_tokenize(sentence_2)\n",
    "    joint_words = list(set(words_1).union(set(words_2)))\n",
    "    windex = {x[1]: x[0] for x in enumerate(joint_words)}\n",
    "    r1 = word_order_vector(words_1, joint_words, windex)\n",
    "    r2 = word_order_vector(words_2, joint_words, windex)\n",
    "    return 1.0 - (np.linalg.norm(r1 - r2) / np.linalg.norm(r1 + r2))\n"
   ]
  },
  {
   "cell_type": "markdown",
   "id": "4ded8f33",
   "metadata": {},
   "source": [
    "######################### overall similarity ##########################"
   ]
  },
  {
   "cell_type": "code",
   "execution_count": 14,
   "id": "45ed247e",
   "metadata": {},
   "outputs": [],
   "source": [
    "def similarity(sentence_1, sentence_2, info_content_norm):\n",
    "    \"\"\"\n",
    "    Calculate the semantic similarity between two sentences. The last \n",
    "    parameter is True or False depending on whether information content\n",
    "    normalization is desired or not.\n",
    "    \"\"\"\n",
    "    return DELTA * semantic_similarity(sentence_1, sentence_2, info_content_norm) + \\\n",
    "        (1.0 - DELTA) * word_order_similarity(sentence_1, sentence_2)"
   ]
  },
  {
   "cell_type": "markdown",
   "id": "32ba00b1",
   "metadata": {},
   "source": [
    "######################### main / test ##########################"
   ]
  },
  {
   "cell_type": "code",
   "execution_count": 15,
   "id": "f3057031",
   "metadata": {},
   "outputs": [
    {
     "name": "stdout",
     "output_type": "stream",
     "text": [
      "asylum\tfruit\t0.21\t0.30\n",
      "autograph\tshore\t0.29\t0.00\n",
      "autograph\tsignature\t0.55\t0.82\n",
      "automobile\tcar\t0.64\t1.00\n",
      "bird\twoodland\t0.33\t0.20\n",
      "boy\trooster\t0.53\t0.11\n",
      "boy\tlad\t0.66\t0.82\n",
      "boy\tsage\t0.51\t0.37\n",
      "cemetery\tgraveyard\t0.73\t1.00\n",
      "coast\tforest\t0.36\t0.36\n",
      "coast\tshore\t0.76\t0.80\n",
      "cock\trooster\t1.00\t1.00\n",
      "cord\tsmile\t0.33\t0.13\n",
      "cord\tstring\t0.68\t0.82\n",
      "cushion\tpillow\t0.66\t0.82\n",
      "forest\tgraveyard\t0.55\t0.20\n",
      "forest\twoodland\t0.70\t0.98\n",
      "furnace\tstove\t0.72\t0.17\n",
      "glass\ttumbler\t0.65\t0.82\n",
      "grin\tsmile\t0.49\t0.99\n",
      "gem\tjewel\t0.83\t1.00\n",
      "hill\twoodland\t0.59\t0.36\n",
      "hill\tmound\t0.74\t0.99\n",
      "implement\ttool\t0.75\t0.82\n",
      "journey\tvoyage\t0.52\t0.82\n",
      "magician\toracle\t0.44\t0.30\n",
      "magician\twizard\t0.65\t1.00\n",
      "midday\tnoon\t1.00\t1.00\n",
      "oracle\tsage\t0.43\t0.37\n",
      "serf\tslave\t0.39\t0.55\n"
     ]
    }
   ],
   "source": [
    "# the results of the algorithm are largely dependent on the results of \n",
    "# the word similarities, so we should test this first...\n",
    "word_pairs = [\n",
    "  [\"asylum\", \"fruit\", 0.21],\n",
    "  [\"autograph\", \"shore\", 0.29],\n",
    "  [\"autograph\", \"signature\", 0.55],\n",
    "  [\"automobile\", \"car\", 0.64],\n",
    "  [\"bird\", \"woodland\", 0.33],\n",
    "  [\"boy\", \"rooster\", 0.53],\n",
    "  [\"boy\", \"lad\", 0.66],\n",
    "  [\"boy\", \"sage\", 0.51],\n",
    "  [\"cemetery\", \"graveyard\", 0.73],\n",
    "  [\"coast\", \"forest\", 0.36],\n",
    "  [\"coast\", \"shore\", 0.76],\n",
    "  [\"cock\", \"rooster\", 1.00],\n",
    "  [\"cord\", \"smile\", 0.33],\n",
    "  [\"cord\", \"string\", 0.68],\n",
    "  [\"cushion\", \"pillow\", 0.66],\n",
    "  [\"forest\", \"graveyard\", 0.55],\n",
    "  [\"forest\", \"woodland\", 0.70],\n",
    "  [\"furnace\", \"stove\", 0.72],\n",
    "  [\"glass\", \"tumbler\", 0.65],\n",
    "  [\"grin\", \"smile\", 0.49],\n",
    "  [\"gem\", \"jewel\", 0.83],\n",
    "  [\"hill\", \"woodland\", 0.59],\n",
    "  [\"hill\", \"mound\", 0.74],\n",
    "  [\"implement\", \"tool\", 0.75],\n",
    "  [\"journey\", \"voyage\", 0.52],\n",
    "  [\"magician\", \"oracle\", 0.44],\n",
    "  [\"magician\", \"wizard\", 0.65],\n",
    "  [\"midday\", \"noon\", 1.0],\n",
    "  [\"oracle\", \"sage\", 0.43],\n",
    "  [\"serf\", \"slave\", 0.39]\n",
    "]\n",
    "for word_pair in word_pairs:\n",
    "    print (\"%s\\t%s\\t%.2f\\t%.2f\" % (word_pair[0], word_pair[1], word_pair[2], word_similarity(word_pair[0], word_pair[1])))"
   ]
  },
  {
   "cell_type": "code",
   "execution_count": 20,
   "id": "c7a24af2",
   "metadata": {},
   "outputs": [
    {
     "name": "stdout",
     "output_type": "stream",
     "text": [
      "I like that bachelor.\tI like that unmarried man.\t0.561\t0.784\t0.329\n",
      "John is very nice.\tIs John very nice?\t0.977\t0.582\t0.871\n",
      "Red alcoholic drink.\tA bottle of wine.\t0.585\t0.465\t0.296\n",
      "Red alcoholic drink.\tFresh orange juice.\t0.611\t0.441\t0.248\n",
      "Red alcoholic drink.\tAn English dictionary.\t0.000\t0.237\t0.028\n",
      "Red alcoholic drink.\tFresh apple juice.\t0.420\t0.384\t0.210\n",
      "A glass of cider.\tA full cup of apple juice.\t0.678\t0.665\t0.354\n",
      "It is a dog.\tThat must be your dog.\t0.739\t0.465\t0.701\n",
      "It is a dog.\tIt is a log.\t0.623\t0.812\t0.450\n",
      "It is a dog.\tIt is a pig.\t0.790\t0.811\t0.448\n",
      "Dogs are animals.\tThey are common pets.\t0.738\t0.587\t0.415\n",
      "Canis familiaris are animals.\tDogs are common pets.\t0.362\t0.507\t0.200\n",
      "I have a pen.\tWhere do you live?\t0.000\t0.101\t0.146\n",
      "I have a pen.\tWhere is ink?\t0.129\t0.133\t0.119\n",
      "I have a hammer.\tTake some nails.\t0.508\t0.413\t0.292\n",
      "I have a hammer.\tTake some apples.\t0.121\t0.334\t0.137\n"
     ]
    }
   ],
   "source": [
    "sentence_pairs = [\n",
    "    [\"I like that bachelor.\", \"I like that unmarried man.\", 0.561],\n",
    "    [\"John is very nice.\", \"Is John very nice?\", 0.977],\n",
    "    [\"Red alcoholic drink.\", \"A bottle of wine.\", 0.585],\n",
    "    [\"Red alcoholic drink.\", \"Fresh orange juice.\", 0.611],\n",
    "    [\"Red alcoholic drink.\", \"An English dictionary.\", 0.0],\n",
    "    [\"Red alcoholic drink.\", \"Fresh apple juice.\", 0.420],\n",
    "    [\"A glass of cider.\", \"A full cup of apple juice.\", 0.678],\n",
    "    [\"It is a dog.\", \"That must be your dog.\", 0.739],\n",
    "    [\"It is a dog.\", \"It is a log.\", 0.623],\n",
    "    [\"It is a dog.\", \"It is a pig.\", 0.790],\n",
    "    [\"Dogs are animals.\", \"They are common pets.\", 0.738],\n",
    "    [\"Canis familiaris are animals.\", \"Dogs are common pets.\", 0.362],\n",
    "    [\"I have a pen.\", \"Where do you live?\", 0.0],\n",
    "    [\"I have a pen.\", \"Where is ink?\", 0.129],\n",
    "    [\"I have a hammer.\", \"Take some nails.\", 0.508],\n",
    "    [\"I have a hammer.\", \"Take some apples.\", 0.121]\n",
    "]\n",
    "for sent_pair in sentence_pairs:\n",
    "    print (\"%s\\t%s\\t%.3f\\t%.3f\\t%.3f\" % (sent_pair[0], sent_pair[1], sent_pair[2], \n",
    "        similarity(sent_pair[0], sent_pair[1], False),\n",
    "        similarity(sent_pair[0], sent_pair[1], True)))"
   ]
  },
  {
   "cell_type": "code",
   "execution_count": 48,
   "id": "cc23f81a",
   "metadata": {},
   "outputs": [
    {
     "name": "stdout",
     "output_type": "stream",
     "text": [
      "you can enjoy a lower interest rate on new eligible charges added to your Pay Over Time feature for limited time.\n",
      "eligible rate will be applied to purchase when you enrolled to pay over time select.\n",
      "0.503\n",
      "\n",
      "you have a pay over time fature on your account that gives you the option to pay certain charges over time with interest\n",
      "eligible rate will be applied to purchase when you enrolled to pay over time select.\n",
      "0.453\n",
      "\n",
      "if you are enrolled in pay over time select, this promotional rate will also apply to eligibile purchase added at your request. \n",
      "eligible rate will be applied to purchase when you enrolled to pay over time select.\n",
      "0.620\n",
      "\n"
     ]
    }
   ],
   "source": [
    "sentence_pairs = [\n",
    "    [\"you can enjoy a lower interest rate on new eligible charges added to your Pay Over Time feature for limited time.\",  0.],\n",
    "    [\"you have a pay over time fature on your account that gives you the option to pay certain charges over time with interest\",  0.],\n",
    "    [\"if you are enrolled in pay over time select, this promotional rate will also apply to eligibile purchase added at your request. \",  0.],\n",
    "]\n",
    "\n",
    "query_sentence = \"eligible rate will be applied to purchase when you enrolled to pay over time select.\"\n",
    "\n",
    "for sent_pair in sentence_pairs:\n",
    "    print (\"%s\\n%s\\n%.3f\\n\" % (sent_pair[0], query_sentence, \n",
    "        similarity(sent_pair[0], query_sentence, False)))"
   ]
  },
  {
   "cell_type": "code",
   "execution_count": 56,
   "id": "fddbc69d",
   "metadata": {},
   "outputs": [
    {
     "name": "stdout",
     "output_type": "stream",
     "text": [
      "amount\tquantum\t0.72\n",
      "interest\tfee\t0.82\n",
      "rate\trated\t0.72\n",
      "texas\ttx\t1.00\n"
     ]
    }
   ],
   "source": [
    "# the results of the algorithm are largely dependent on the results of \n",
    "# the word similarities, so we should test this first...\n",
    "word_pairs = [\n",
    "  [\"amount\", \"quantum\", 0.],\n",
    "  [\"interest\", \"fee\", 0.],\n",
    "  [\"rate\", \"rated\", 0.],\n",
    "    [\"texas\", \"tx\", 0.]\n",
    "]\n",
    "for word_pair in word_pairs:\n",
    "    print (\"%s\\t%s\\t%.2f\" % (word_pair[0], word_pair[1], word_similarity(word_pair[0], word_pair[1])))"
   ]
  },
  {
   "cell_type": "markdown",
   "id": "7bc23ced",
   "metadata": {},
   "source": []
  }
 ],
 "metadata": {
  "kernelspec": {
   "display_name": "Python 3",
   "language": "python",
   "name": "python3"
  },
  "language_info": {
   "codemirror_mode": {
    "name": "ipython",
    "version": 3
   },
   "file_extension": ".py",
   "mimetype": "text/x-python",
   "name": "python",
   "nbconvert_exporter": "python",
   "pygments_lexer": "ipython3",
   "version": "3.8.6"
  }
 },
 "nbformat": 4,
 "nbformat_minor": 5
}
