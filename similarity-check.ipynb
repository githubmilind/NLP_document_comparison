{
 "cells": [
 
  {
   "cell_type": "code",
   "execution_count": 1,
   "id": "9b610976",
   "metadata": {},
   "outputs": [],
   "source": [
    "import nltk\n",
    "from nltk.tokenize import word_tokenize, sent_tokenize\n",
    "import gensim\n",
    "import numpy as np"
   ]
  },
  {
   "cell_type": "code",
   "execution_count": 2,
   "id": "1f8f796d",
   "metadata": {},
   "outputs": [],
   "source": [
    "all_docs = [\"you can enjoy a lower interest rate on new eligible charges added to your Pay Over Time feature for limited time.\",\n",
    "            \"you have a pay over time fature on your account that gives you the option to pay certain charges over time with interest.\",\n",
    "            \"if you are enrolled in pay over time select, this promotional rate will also apply to eligibile purchases added at your request. \"]"
   ]
  },
  {
   "cell_type": "code",
   "execution_count": 22,
   "id": "8164ac64",
   "metadata": {},
   "outputs": [],
   "source": [
    "query_docs = [\"eligible rate will be applied to purchaese when you enrolled to pay over time select.\"]"
   ]
  },
  {
   "cell_type": "code",
   "execution_count": 23,
   "id": "cd240b8a",
   "metadata": {},
   "outputs": [],
   "source": [
    "query_docs2 = [ \"you can pay certain charges over time with interest\"]"
   ]
  },
  {
   "cell_type": "code",
   "execution_count": 13,
   "id": "cbff6563",
   "metadata": {},
   "outputs": [],
   "source": [
    "gen_docs = [[w.lower() for w in word_tokenize(text)] \n",
    "            for text in all_docs]\n",
    "#gen_docs"
   ]
  },
  {
   "cell_type": "code",
   "execution_count": 14,
   "id": "f3d71462",
   "metadata": {},
   "outputs": [],
   "source": [
    "dictionary = gensim.corpora.Dictionary(gen_docs)\n",
    "#print(dictionary.token2id)"
   ]
  },
  {
   "cell_type": "code",
   "execution_count": 15,
   "id": "3b97c231",
   "metadata": {},
   "outputs": [],
   "source": [
    "corpus = [dictionary.doc2bow(gen_doc) for gen_doc in gen_docs]\n",
    "#corpus"
   ]
  },
  {
   "cell_type": "code",
   "execution_count": 16,
   "id": "5db1c2c9",
   "metadata": {},
   "outputs": [
    {
     "name": "stdout",
     "output_type": "stream",
     "text": [
      "[['a', 0.12], ['added', 0.12], ['can', 0.34], ['charges', 0.12], ['eligible', 0.34], ['enjoy', 0.34], ['feature', 0.34], ['for', 0.34], ['interest', 0.12], ['limited', 0.34], ['lower', 0.34], ['new', 0.34], ['on', 0.12], ['rate', 0.12]]\n",
      "[['a', 0.12], ['charges', 0.12], ['interest', 0.12], ['on', 0.12], ['account', 0.32], ['certain', 0.32], ['fature', 0.32], ['gives', 0.32], ['have', 0.32], ['option', 0.32], ['that', 0.32], ['the', 0.32], ['with', 0.32]]\n",
      "[['added', 0.09], ['rate', 0.09], [',', 0.26], ['also', 0.26], ['apply', 0.26], ['are', 0.26], ['at', 0.26], ['eligibile', 0.26], ['enrolled', 0.26], ['if', 0.26], ['in', 0.26], ['promotional', 0.26], ['purchases', 0.26], ['request', 0.26], ['select', 0.26], ['this', 0.26], ['will', 0.26]]\n"
     ]
    }
   ],
   "source": [
    "tf_idf = gensim.models.TfidfModel(corpus)\n",
    "for doc in tf_idf[corpus]:\n",
    "    print([[dictionary[id], np.around(freq, decimals=2)] for id, freq in doc])"
   ]
  },
  {
   "cell_type": "code",
   "execution_count": 17,
   "id": "1894ca53",
   "metadata": {},
   "outputs": [],
   "source": [
    "sims = gensim.similarities.Similarity('workdir/',tf_idf[corpus],\n",
    "                                        num_features=len(dictionary))"
   ]
  },
  {
   "cell_type": "code",
   "execution_count": 24,
   "id": "6e1cd89b",
   "metadata": {},
   "outputs": [
    {
     "name": "stdout",
     "output_type": "stream",
     "text": [
      "Number of documents: 1\n"
     ]
    }
   ],
   "source": [
    "print(\"Number of documents:\",len(query_docs))  \n",
    "for line in query_docs:\n",
    "    qry_doc = [w.lower() for w in word_tokenize(line)]\n",
    "    qry_doc_bow = dictionary.doc2bow(qry_doc) #update an existing dictionary and create bag of words\n",
    "#query_doc_bow"
   ]
  },
  {
   "cell_type": "code",
   "execution_count": 25,
   "id": "ebb22333",
   "metadata": {},
   "outputs": [],
   "source": [
    "# perform a similarity query against the corpus\n",
    "query_doc_tf_idf = tf_idf[qry_doc_bow]\n",
    "#query_doc_tf_idf"
   ]
  },
  {
   "cell_type": "code",
   "execution_count": 26,
   "id": "1d562011",
   "metadata": {},
   "outputs": [
    {
     "name": "stdout",
     "output_type": "stream",
     "text": [
      "Comparing Result: [0.18814427 0.         0.39459366]\n"
     ]
    }
   ],
   "source": [
    "print('Comparing Result:', sims[query_doc_tf_idf]) "
   ]
  }
 ],
 "metadata": {
  "kernelspec": {
   "display_name": "Python 3",
   "language": "python",
   "name": "python3"
  },
  "language_info": {
   "codemirror_mode": {
    "name": "ipython",
    "version": 3
   },
   "file_extension": ".py",
   "mimetype": "text/x-python",
   "name": "python",
   "nbconvert_exporter": "python",
   "pygments_lexer": "ipython3",
   "version": "3.8.6"
  }
 },
 "nbformat": 4,
 "nbformat_minor": 5
}
